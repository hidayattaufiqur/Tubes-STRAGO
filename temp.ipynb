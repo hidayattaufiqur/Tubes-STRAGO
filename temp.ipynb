{
 "cells": [
  {
   "cell_type": "code",
   "execution_count": 1,
   "metadata": {},
   "outputs": [
    {
     "name": "stdout",
     "output_type": "stream",
     "text": [
      "hi -1\n",
      "hi -1\n",
      "hi -1\n",
      "hi -1\n",
      "hi -1\n",
      "hi -1\n"
     ]
    },
    {
     "ename": "IndexError",
     "evalue": "list index out of range",
     "output_type": "error",
     "traceback": [
      "\u001b[0;31m---------------------------------------------------------------------------\u001b[0m",
      "\u001b[0;31mIndexError\u001b[0m                                Traceback (most recent call last)",
      "\u001b[1;32m/mnt/x/School/College/4th Semester/Strategi Algoritma/Tubes/temp.ipynb Cell 1'\u001b[0m in \u001b[0;36m<cell line: 16>\u001b[0;34m()\u001b[0m\n\u001b[1;32m     <a href='vscode-notebook-cell://wsl%2Bubuntu/mnt/x/School/College/4th%20Semester/Strategi%20Algoritma/Tubes/temp.ipynb#ch0000001vscode-remote?line=13'>14</a>\u001b[0m \u001b[39mglobal\u001b[39;00m dp \n\u001b[1;32m     <a href='vscode-notebook-cell://wsl%2Bubuntu/mnt/x/School/College/4th%20Semester/Strategi%20Algoritma/Tubes/temp.ipynb#ch0000001vscode-remote?line=14'>15</a>\u001b[0m dp \u001b[39m=\u001b[39m [\u001b[39m-\u001b[39m\u001b[39m1\u001b[39m \u001b[39mfor\u001b[39;00m i \u001b[39min\u001b[39;00m \u001b[39mrange\u001b[39m(n\u001b[39m+\u001b[39m\u001b[39m1\u001b[39m)]\n\u001b[0;32m---> <a href='vscode-notebook-cell://wsl%2Bubuntu/mnt/x/School/College/4th%20Semester/Strategi%20Algoritma/Tubes/temp.ipynb#ch0000001vscode-remote?line=15'>16</a>\u001b[0m \u001b[39mprint\u001b[39m(nswp(n))\n",
      "\u001b[1;32m/mnt/x/School/College/4th Semester/Strategi Algoritma/Tubes/temp.ipynb Cell 1'\u001b[0m in \u001b[0;36mnswp\u001b[0;34m(n)\u001b[0m\n\u001b[1;32m      <a href='vscode-notebook-cell://wsl%2Bubuntu/mnt/x/School/College/4th%20Semester/Strategi%20Algoritma/Tubes/temp.ipynb#ch0000001vscode-remote?line=5'>6</a>\u001b[0m   \u001b[39melse\u001b[39;00m: \n\u001b[1;32m      <a href='vscode-notebook-cell://wsl%2Bubuntu/mnt/x/School/College/4th%20Semester/Strategi%20Algoritma/Tubes/temp.ipynb#ch0000001vscode-remote?line=6'>7</a>\u001b[0m      nswp(n\u001b[39m-\u001b[39m\u001b[39m2\u001b[39m)\n\u001b[0;32m----> <a href='vscode-notebook-cell://wsl%2Bubuntu/mnt/x/School/College/4th%20Semester/Strategi%20Algoritma/Tubes/temp.ipynb#ch0000001vscode-remote?line=7'>8</a>\u001b[0m      nswp(n\u001b[39m-\u001b[39;49m\u001b[39m1\u001b[39;49m)\n\u001b[1;32m      <a href='vscode-notebook-cell://wsl%2Bubuntu/mnt/x/School/College/4th%20Semester/Strategi%20Algoritma/Tubes/temp.ipynb#ch0000001vscode-remote?line=8'>9</a>\u001b[0m      dp[n] \u001b[39m=\u001b[39m (\u001b[39m2\u001b[39m \u001b[39m*\u001b[39m dp[n \u001b[39m-\u001b[39m \u001b[39m1\u001b[39m] \u001b[39m+\u001b[39m\n\u001b[1;32m     <a href='vscode-notebook-cell://wsl%2Bubuntu/mnt/x/School/College/4th%20Semester/Strategi%20Algoritma/Tubes/temp.ipynb#ch0000001vscode-remote?line=9'>10</a>\u001b[0m                    dp[n \u001b[39m-\u001b[39m \u001b[39m2\u001b[39m])\n\u001b[1;32m     <a href='vscode-notebook-cell://wsl%2Bubuntu/mnt/x/School/College/4th%20Semester/Strategi%20Algoritma/Tubes/temp.ipynb#ch0000001vscode-remote?line=10'>11</a>\u001b[0m \u001b[39mreturn\u001b[39;00m dp[n]\n",
      "\u001b[1;32m/mnt/x/School/College/4th Semester/Strategi Algoritma/Tubes/temp.ipynb Cell 1'\u001b[0m in \u001b[0;36mnswp\u001b[0;34m(n)\u001b[0m\n\u001b[1;32m      <a href='vscode-notebook-cell://wsl%2Bubuntu/mnt/x/School/College/4th%20Semester/Strategi%20Algoritma/Tubes/temp.ipynb#ch0000001vscode-remote?line=4'>5</a>\u001b[0m   dp[n] \u001b[39m=\u001b[39m n\n\u001b[1;32m      <a href='vscode-notebook-cell://wsl%2Bubuntu/mnt/x/School/College/4th%20Semester/Strategi%20Algoritma/Tubes/temp.ipynb#ch0000001vscode-remote?line=5'>6</a>\u001b[0m \u001b[39melse\u001b[39;00m: \n\u001b[0;32m----> <a href='vscode-notebook-cell://wsl%2Bubuntu/mnt/x/School/College/4th%20Semester/Strategi%20Algoritma/Tubes/temp.ipynb#ch0000001vscode-remote?line=6'>7</a>\u001b[0m    nswp(n\u001b[39m-\u001b[39;49m\u001b[39m2\u001b[39;49m)\n\u001b[1;32m      <a href='vscode-notebook-cell://wsl%2Bubuntu/mnt/x/School/College/4th%20Semester/Strategi%20Algoritma/Tubes/temp.ipynb#ch0000001vscode-remote?line=7'>8</a>\u001b[0m    nswp(n\u001b[39m-\u001b[39m\u001b[39m1\u001b[39m)\n\u001b[1;32m      <a href='vscode-notebook-cell://wsl%2Bubuntu/mnt/x/School/College/4th%20Semester/Strategi%20Algoritma/Tubes/temp.ipynb#ch0000001vscode-remote?line=8'>9</a>\u001b[0m    dp[n] \u001b[39m=\u001b[39m (\u001b[39m2\u001b[39m \u001b[39m*\u001b[39m dp[n \u001b[39m-\u001b[39m \u001b[39m1\u001b[39m] \u001b[39m+\u001b[39m\n\u001b[1;32m     <a href='vscode-notebook-cell://wsl%2Bubuntu/mnt/x/School/College/4th%20Semester/Strategi%20Algoritma/Tubes/temp.ipynb#ch0000001vscode-remote?line=9'>10</a>\u001b[0m                  dp[n \u001b[39m-\u001b[39m \u001b[39m2\u001b[39m])\n",
      "\u001b[1;32m/mnt/x/School/College/4th Semester/Strategi Algoritma/Tubes/temp.ipynb Cell 1'\u001b[0m in \u001b[0;36mnswp\u001b[0;34m(n)\u001b[0m\n\u001b[1;32m      <a href='vscode-notebook-cell://wsl%2Bubuntu/mnt/x/School/College/4th%20Semester/Strategi%20Algoritma/Tubes/temp.ipynb#ch0000001vscode-remote?line=4'>5</a>\u001b[0m   dp[n] \u001b[39m=\u001b[39m n\n\u001b[1;32m      <a href='vscode-notebook-cell://wsl%2Bubuntu/mnt/x/School/College/4th%20Semester/Strategi%20Algoritma/Tubes/temp.ipynb#ch0000001vscode-remote?line=5'>6</a>\u001b[0m \u001b[39melse\u001b[39;00m: \n\u001b[0;32m----> <a href='vscode-notebook-cell://wsl%2Bubuntu/mnt/x/School/College/4th%20Semester/Strategi%20Algoritma/Tubes/temp.ipynb#ch0000001vscode-remote?line=6'>7</a>\u001b[0m    nswp(n\u001b[39m-\u001b[39;49m\u001b[39m2\u001b[39;49m)\n\u001b[1;32m      <a href='vscode-notebook-cell://wsl%2Bubuntu/mnt/x/School/College/4th%20Semester/Strategi%20Algoritma/Tubes/temp.ipynb#ch0000001vscode-remote?line=7'>8</a>\u001b[0m    nswp(n\u001b[39m-\u001b[39m\u001b[39m1\u001b[39m)\n\u001b[1;32m      <a href='vscode-notebook-cell://wsl%2Bubuntu/mnt/x/School/College/4th%20Semester/Strategi%20Algoritma/Tubes/temp.ipynb#ch0000001vscode-remote?line=8'>9</a>\u001b[0m    dp[n] \u001b[39m=\u001b[39m (\u001b[39m2\u001b[39m \u001b[39m*\u001b[39m dp[n \u001b[39m-\u001b[39m \u001b[39m1\u001b[39m] \u001b[39m+\u001b[39m\n\u001b[1;32m     <a href='vscode-notebook-cell://wsl%2Bubuntu/mnt/x/School/College/4th%20Semester/Strategi%20Algoritma/Tubes/temp.ipynb#ch0000001vscode-remote?line=9'>10</a>\u001b[0m                  dp[n \u001b[39m-\u001b[39m \u001b[39m2\u001b[39m])\n",
      "    \u001b[0;31m[... skipping similar frames: nswp at line 7 (1 times)]\u001b[0m\n",
      "\u001b[1;32m/mnt/x/School/College/4th Semester/Strategi Algoritma/Tubes/temp.ipynb Cell 1'\u001b[0m in \u001b[0;36mnswp\u001b[0;34m(n)\u001b[0m\n\u001b[1;32m      <a href='vscode-notebook-cell://wsl%2Bubuntu/mnt/x/School/College/4th%20Semester/Strategi%20Algoritma/Tubes/temp.ipynb#ch0000001vscode-remote?line=4'>5</a>\u001b[0m   dp[n] \u001b[39m=\u001b[39m n\n\u001b[1;32m      <a href='vscode-notebook-cell://wsl%2Bubuntu/mnt/x/School/College/4th%20Semester/Strategi%20Algoritma/Tubes/temp.ipynb#ch0000001vscode-remote?line=5'>6</a>\u001b[0m \u001b[39melse\u001b[39;00m: \n\u001b[0;32m----> <a href='vscode-notebook-cell://wsl%2Bubuntu/mnt/x/School/College/4th%20Semester/Strategi%20Algoritma/Tubes/temp.ipynb#ch0000001vscode-remote?line=6'>7</a>\u001b[0m    nswp(n\u001b[39m-\u001b[39;49m\u001b[39m2\u001b[39;49m)\n\u001b[1;32m      <a href='vscode-notebook-cell://wsl%2Bubuntu/mnt/x/School/College/4th%20Semester/Strategi%20Algoritma/Tubes/temp.ipynb#ch0000001vscode-remote?line=7'>8</a>\u001b[0m    nswp(n\u001b[39m-\u001b[39m\u001b[39m1\u001b[39m)\n\u001b[1;32m      <a href='vscode-notebook-cell://wsl%2Bubuntu/mnt/x/School/College/4th%20Semester/Strategi%20Algoritma/Tubes/temp.ipynb#ch0000001vscode-remote?line=8'>9</a>\u001b[0m    dp[n] \u001b[39m=\u001b[39m (\u001b[39m2\u001b[39m \u001b[39m*\u001b[39m dp[n \u001b[39m-\u001b[39m \u001b[39m1\u001b[39m] \u001b[39m+\u001b[39m\n\u001b[1;32m     <a href='vscode-notebook-cell://wsl%2Bubuntu/mnt/x/School/College/4th%20Semester/Strategi%20Algoritma/Tubes/temp.ipynb#ch0000001vscode-remote?line=9'>10</a>\u001b[0m                  dp[n \u001b[39m-\u001b[39m \u001b[39m2\u001b[39m])\n",
      "\u001b[1;32m/mnt/x/School/College/4th Semester/Strategi Algoritma/Tubes/temp.ipynb Cell 1'\u001b[0m in \u001b[0;36mnswp\u001b[0;34m(n)\u001b[0m\n\u001b[1;32m      <a href='vscode-notebook-cell://wsl%2Bubuntu/mnt/x/School/College/4th%20Semester/Strategi%20Algoritma/Tubes/temp.ipynb#ch0000001vscode-remote?line=0'>1</a>\u001b[0m \u001b[39mdef\u001b[39;00m \u001b[39mnswp\u001b[39m(n):\n\u001b[0;32m----> <a href='vscode-notebook-cell://wsl%2Bubuntu/mnt/x/School/College/4th%20Semester/Strategi%20Algoritma/Tubes/temp.ipynb#ch0000001vscode-remote?line=1'>2</a>\u001b[0m   \u001b[39mprint\u001b[39m(\u001b[39m'\u001b[39m\u001b[39mhi\u001b[39m\u001b[39m'\u001b[39m, dp[n])\n\u001b[1;32m      <a href='vscode-notebook-cell://wsl%2Bubuntu/mnt/x/School/College/4th%20Semester/Strategi%20Algoritma/Tubes/temp.ipynb#ch0000001vscode-remote?line=2'>3</a>\u001b[0m   \u001b[39mif\u001b[39;00m dp[n] \u001b[39m==\u001b[39m \u001b[39m-\u001b[39m\u001b[39m1\u001b[39m:\n\u001b[1;32m      <a href='vscode-notebook-cell://wsl%2Bubuntu/mnt/x/School/College/4th%20Semester/Strategi%20Algoritma/Tubes/temp.ipynb#ch0000001vscode-remote?line=3'>4</a>\u001b[0m     \u001b[39mif\u001b[39;00m n \u001b[39m==\u001b[39m \u001b[39m1\u001b[39m:\n",
      "\u001b[0;31mIndexError\u001b[0m: list index out of range"
     ]
    }
   ],
   "source": [
    "def nswp(n):\n",
    "  print('hi', dp[n])\n",
    "  if dp[n] == -1:\n",
    "    if n == 1:\n",
    "      dp[n] = n\n",
    "    else: \n",
    "       nswp(n-2)\n",
    "       nswp(n-1)\n",
    "       dp[n] = (2 * dp[n - 1] +\n",
    "                     dp[n - 2])\n",
    "  return dp[n]\n",
    "\n",
    "n = 3 \n",
    "global dp \n",
    "dp = [-1 for i in range(n+1)]\n",
    "print(nswp(n))"
   ]
  },
  {
   "cell_type": "code",
   "execution_count": null,
   "metadata": {},
   "outputs": [],
   "source": []
  }
 ],
 "metadata": {
  "interpreter": {
   "hash": "916dbcbb3f70747c44a77c7bcd40155683ae19c65e1c03b4aa3499c5328201f1"
  },
  "kernelspec": {
   "display_name": "Python 3.8.10 64-bit",
   "language": "python",
   "name": "python3"
  },
  "language_info": {
   "codemirror_mode": {
    "name": "ipython",
    "version": 3
   },
   "file_extension": ".py",
   "mimetype": "text/x-python",
   "name": "python",
   "nbconvert_exporter": "python",
   "pygments_lexer": "ipython3",
   "version": "3.8.10"
  },
  "orig_nbformat": 4
 },
 "nbformat": 4,
 "nbformat_minor": 2
}
