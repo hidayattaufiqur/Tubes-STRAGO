{
 "cells": [
  {
   "cell_type": "code",
   "execution_count": 1,
   "metadata": {},
   "outputs": [],
   "source": [
    "# brute force menggunakan 3 nested loop\n",
    "def max_subarray_sum_bf(arr, n):\n",
    "    maks_subarray_sum = 0 \n",
    "    for i in range(n): \n",
    "        for j in range(i, n):\n",
    "            subarray_sum = 0 \n",
    "            for k in range(i, j+1):\n",
    "                subarray_sum += arr[k] \n",
    "            \n",
    "            if subarray_sum > maks_subarray_sum:\n",
    "                maks_subarray_sum = subarray_sum\n",
    "\n",
    "    return maks_subarray_sum"
   ]
  },
  {
   "cell_type": "code",
   "execution_count": 2,
   "metadata": {},
   "outputs": [],
   "source": [
    "# kanade's algorithm menggunakan 1 loop\n",
    "def max_subarray_sum_kanade(arr, n):\n",
    "    maks_subarray_sum = arr[0]\n",
    "    maks_subarray_sum_temp = arr[0]\n",
    "    for i in range(1, n):\n",
    "        maks_subarray_sum_temp = max(maks_subarray_sum_temp + arr[i], arr[i])\n",
    "        \n",
    "        if maks_subarray_sum < maks_subarray_sum_temp:\n",
    "            maks_subarray_sum = maks_subarray_sum_temp\n",
    "        \n",
    "    return maks_subarray_sum"
   ]
  },
  {
   "cell_type": "code",
   "execution_count": 5,
   "metadata": {},
   "outputs": [
    {
     "name": "stdout",
     "output_type": "stream",
     "text": [
      "\n",
      "        Method     n  Answer       Time\n",
      "0  brute force    10    1276   0.000049\n",
      "1     kanade's    10    1276   0.000007\n",
      "2  brute force   100   11891   0.018500\n",
      "3     kanade's   100   11891   0.000033\n",
      "4  brute force   500   13545   2.147191\n",
      "5     kanade's   500   13545   0.000156\n",
      "6  brute force  1000   36345  16.763160\n",
      "7     kanade's  1000   36345   0.000271\n"
     ]
    },
    {
     "data": {
      "text/html": [
       "<div>\n",
       "<style scoped>\n",
       "    .dataframe tbody tr th:only-of-type {\n",
       "        vertical-align: middle;\n",
       "    }\n",
       "\n",
       "    .dataframe tbody tr th {\n",
       "        vertical-align: top;\n",
       "    }\n",
       "\n",
       "    .dataframe thead th {\n",
       "        text-align: right;\n",
       "    }\n",
       "</style>\n",
       "<table border=\"1\" class=\"dataframe\">\n",
       "  <thead>\n",
       "    <tr style=\"text-align: right;\">\n",
       "      <th></th>\n",
       "      <th>Method</th>\n",
       "      <th>Time</th>\n",
       "    </tr>\n",
       "  </thead>\n",
       "  <tbody>\n",
       "    <tr>\n",
       "      <th>0</th>\n",
       "      <td>brute force</td>\n",
       "      <td>18.928900</td>\n",
       "    </tr>\n",
       "    <tr>\n",
       "      <th>1</th>\n",
       "      <td>kanade's</td>\n",
       "      <td>0.000467</td>\n",
       "    </tr>\n",
       "  </tbody>\n",
       "</table>\n",
       "</div>"
      ],
      "text/plain": [
       "        Method       Time\n",
       "0  brute force  18.928900\n",
       "1     kanade's   0.000467"
      ]
     },
     "execution_count": 5,
     "metadata": {},
     "output_type": "execute_result"
    }
   ],
   "source": [
    "import timeit\n",
    "import pandas as pd\n",
    "import seaborn as sns\n",
    "from numpy import random\n",
    "import matplotlib.pyplot as plt\n",
    "\n",
    "m_time = []\n",
    "bf_time = []\n",
    "dp_time = []\n",
    "n_size = [10, 100, 500, 1000]\n",
    "\n",
    "\n",
    "def calculate(start): \n",
    "    stop = timeit.default_timer()\n",
    "    executiobf_time = stop - start\n",
    "    return round(executiobf_time, 6)\n",
    "\n",
    "\n",
    "def count_time(arr, n, method, name):\n",
    "    start = timeit.default_timer()\n",
    "    ans = method(arr, n)\n",
    "    time = calculate(start)\n",
    "    if method == max_subarray_sum_bf:\n",
    "        bf_time.append(time)\n",
    "    elif method == max_subarray_sum_kanade:\n",
    "        dp_time.append(time)\n",
    "    m_time.append([name, n, ans, time])\n",
    "\n",
    "# size array = 10\n",
    "arr = random.randint(-999, 999, size=10)\n",
    "count_time(arr, len(arr), max_subarray_sum_bf, 'brute force')\n",
    "count_time(arr, len(arr), max_subarray_sum_kanade, 'kanade\\'s')\n",
    "\n",
    "# size array = 100\n",
    "arr = random.randint(-999, 999, size=100)\n",
    "count_time(arr, len(arr), max_subarray_sum_bf, 'brute force')\n",
    "count_time(arr, len(arr), max_subarray_sum_kanade, 'kanade\\'s')\n",
    "\n",
    "# size array = 500\n",
    "arr = random.randint(-999, 999, size=500)\n",
    "count_time(arr, len(arr), max_subarray_sum_bf, 'brute force')\n",
    "count_time(arr, len(arr), max_subarray_sum_kanade, 'kanade\\'s')\n",
    "\n",
    "# size array = 1000\n",
    "arr = random.randint(-999, 999, size=1000)\n",
    "count_time(arr, len(arr), max_subarray_sum_bf, 'brute force')\n",
    "count_time(arr, len(arr), max_subarray_sum_kanade, 'kanade\\'s')\n",
    "\n",
    "m_time = pd.DataFrame(m_time, columns = ['Method', 'n', 'Answer', 'Time'])\n",
    "\n",
    "print()\n",
    "print(m_time, end=\"\\n\")\n",
    "m_time.groupby(['Method'])['Time'].sum().reset_index()"
   ]
  },
  {
   "cell_type": "code",
   "execution_count": 6,
   "metadata": {},
   "outputs": [
    {
     "data": {
      "text/plain": [
       "Text(0, 0.5, 'time (s)')"
      ]
     },
     "execution_count": 6,
     "metadata": {},
     "output_type": "execute_result"
    },
    {
     "data": {
      "image/png": "[encoded data removed]",
      "text/plain": [
       "<Figure size 864x432 with 1 Axes>"
      ]
     },
     "metadata": {
      "needs_background": "light"
     },
     "output_type": "display_data"
    }
   ],
   "source": [
    "range = len(n_size)*2\n",
    "plt.figure(figsize=(12,6))\n",
    "sns.set_theme(style=\"darkgrid\"); sns.set_context(\"notebook\", rc={\"lines.linewidth\": 2.5})\n",
    "sns.lineplot(data=m_time[:range], x='n', y='Time', hue='Method', marker=\"o\", palette=\"deep\", ci=None)\n",
    "plt.ylabel(\"time (s)\")"
   ]
  }
 ],
 "metadata": {
  "interpreter": {
   "hash": "916dbcbb3f70747c44a77c7bcd40155683ae19c65e1c03b4aa3499c5328201f1"
  },
  "kernelspec": {
   "display_name": "Python 3.8.10 64-bit",
   "language": "python",
   "name": "python3"
  },
  "language_info": {
   "codemirror_mode": {
    "name": "ipython",
    "version": 3
   },
   "file_extension": ".py",
   "mimetype": "text/x-python",
   "name": "python",
   "nbconvert_exporter": "python",
   "pygments_lexer": "ipython3",
   "version": "3.8.10"
  },
  "orig_nbformat": 4
 },
 "nbformat": 4,
 "nbformat_minor": 2
}
