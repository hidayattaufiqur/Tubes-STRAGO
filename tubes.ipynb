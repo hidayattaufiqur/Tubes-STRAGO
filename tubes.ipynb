{
 "cells": [
  {
   "cell_type": "code",
   "execution_count": 20,
   "metadata": {},
   "outputs": [],
   "source": [
    "# brute force menggunakan 3 nested loop\n",
    "def maxSubarraySum_bf(arr, n):\n",
    "    maksSubarraySum = 0 \n",
    "    for i in range(n): \n",
    "        for j in range(n):\n",
    "            subarraySum = 0 \n",
    "            for k in range(i, j+1):\n",
    "                subarraySum += arr[k] \n",
    "            \n",
    "            if subarraySum > maksSubarraySum:\n",
    "                maksSubarraySum = subarraySum\n",
    "\n",
    "    return maksSubarraySum"
   ]
  },
  {
   "cell_type": "code",
   "execution_count": 21,
   "metadata": {},
   "outputs": [],
   "source": [
    "# x = [-10, 2, 3, 4, 5]\n",
    "x = [-9444, -9031, -9022, -8886, -8862, -8522, -8347, -8276, -8015, -7981, -7710, -7420, -7314, -6964, -6940, -6781, -6426, -6425, -6178, -5897, -5775, -5467, -5029, -4529, -4485, -4158, -3727, -3459, -3387, -3308, -3279, -2904, -2577, -2505, -2245, -2142, -2128, -1299, -973, -487, -360, -237, -101, 23, 348, 877, 900, 1198, 1254, 1433, 1642, 1671, 1672, 2006, 2060, 2120, 2143, 2252, 2287, 2582, 3173, 3398, 3424, 4854, 4955, 5099, 5179, 5274, 5518, 5608, 5792, 5796, 5805, 5933, 6127, 6284, 6308, 6455, 6659, 6951, 6978, 7033, 7036, 7052, 7087, 7457, 7522, 7653, 7654, 7810, 8012, 8273, 8298, 8614, 8834, 9236, 9713, 9762, 9968, 9987]\n",
    "# maxSubarraySum_bf(x, len(x))"
   ]
  },
  {
   "cell_type": "code",
   "execution_count": 22,
   "metadata": {},
   "outputs": [],
   "source": [
    "def maxSubarraySum(arr, n):\n",
    "    maxSumSoFar = arr[0]\n",
    "    maxSumEndingHere = arr[0]\n",
    "    for i in range(n):\n",
    "        maxSumEndingHere = max(maxSumEndingHere + arr[i], arr[i])\n",
    "        if maxSumSoFar < maxSumEndingHere:\n",
    "            maxSumSoFar = maxSumEndingHere\n",
    "        \n",
    "    return maxSumSoFar"
   ]
  },
  {
   "cell_type": "code",
   "execution_count": 23,
   "metadata": {},
   "outputs": [
    {
     "name": "stdout",
     "output_type": "stream",
     "text": [
      "299039\n",
      "299039\n",
      "        Method    n      Time\n",
      "0  brute force  100  0.008237\n",
      "1       kanade  100  0.000027\n"
     ]
    }
   ],
   "source": [
    "import timeit\n",
    "\n",
    "m_time = []\n",
    "\n",
    "\n",
    "def calculate(start): \n",
    "    stop = timeit.default_timer()\n",
    "    execution_time = stop - start\n",
    "    return round(execution_time, 6)\n",
    "\n",
    "\n",
    "def count_time(arr, n, method, name):\n",
    "    start = timeit.default_timer()\n",
    "    print(f'{method(arr, n)}')\n",
    "    m_time.append([name, n, calculate(start)])\n",
    "\n",
    "count_time(x, len(x), maxSubarraySum_bf, 'brute force')\n",
    "count_time(x, len(x), maxSubarraySum, 'kanade')\n",
    "\n",
    "import pandas as pd\n",
    "\n",
    "m_time = pd.DataFrame(m_time, columns =['Method', 'n', 'Time'])\n",
    "\n",
    "print(m_time)"
   ]
  }
 ],
 "metadata": {
  "interpreter": {
   "hash": "916dbcbb3f70747c44a77c7bcd40155683ae19c65e1c03b4aa3499c5328201f1"
  },
  "kernelspec": {
   "display_name": "Python 3.8.10 64-bit",
   "language": "python",
   "name": "python3"
  },
  "language_info": {
   "codemirror_mode": {
    "name": "ipython",
    "version": 3
   },
   "file_extension": ".py",
   "mimetype": "text/x-python",
   "name": "python",
   "nbconvert_exporter": "python",
   "pygments_lexer": "ipython3",
   "version": "3.8.10"
  },
  "orig_nbformat": 4
 },
 "nbformat": 4,
 "nbformat_minor": 2
}
